{
 "cells": [
  {
   "cell_type": "markdown",
   "id": "0e42846a",
   "metadata": {},
   "source": [
    "# Download specific competition files directly from Kaggle"
   ]
  },
  {
   "cell_type": "markdown",
   "id": "b4b5869a",
   "metadata": {},
   "source": [
    "### Pre-requisites:\n",
    "\n",
    "**Install kaggle api using pip**\n",
    "pip install kaggle\n",
    "\n",
    "**API Credentials**\n",
    "To use the Kaggle API, sign up for a Kaggle account at https://www.kaggle.com. Then go to the 'Account' tab of your user profile (https://www.kaggle.com/<username>/account) and select 'Create API Token'. This will trigger the download of kaggle.json, a file containing your API credentials. Place this file in the location ~/.kaggle/kaggle.json (on Windows in the location C:\\Users\\<Windows-username>\\.kaggle\\kaggle.json - you can check the exact location, sans drive, with echo %HOMEPATH%). You can define a shell environment variable KAGGLE_CONFIG_DIR to change this location to $KAGGLE_CONFIG_DIR/kaggle.json (on Windows it will be %KAGGLE_CONFIG_DIR%\\kaggle.json).\n",
    "\n",
    "For your security, ensure that other users of your computer do not have read access to your credentials. On Unix-based systems you can do this with the following command:\n",
    "\n",
    "chmod 600 ~/.kaggle/kaggle.json\n",
    "\n",
    "You can also choose to export your Kaggle username and token to the environment:\n",
    "\n",
    "export KAGGLE_USERNAME=datadinosaur\n",
    "export KAGGLE_KEY=xxxxxxxxxxxxxx\n",
    "In addition, you can export any other configuration value that normally would be in the $HOME/.kaggle/kaggle.json in the format 'KAGGLE_' (note uppercase).\n",
    "For example, if the file had the variable \"proxy\" you would export KAGGLE_PROXY and it would be discovered by the client."
   ]
  },
  {
   "cell_type": "markdown",
   "id": "b0ad07b9",
   "metadata": {},
   "source": [
    "### 1. Load necessary libraries"
   ]
  },
  {
   "cell_type": "code",
   "execution_count": null,
   "id": "c4bd443a",
   "metadata": {},
   "outputs": [],
   "source": [
    "import os\n",
    "import shutil\n",
    "from kaggle.api.kaggle_api_extended import KaggleApi"
   ]
  },
  {
   "cell_type": "code",
   "execution_count": null,
   "id": "a3bd5660",
   "metadata": {},
   "outputs": [],
   "source": [
    "def downloadFiles(competition, destination, overwrite=False):\n",
    "    if os.path.exists(destination) and os.path.isdir(destination):\n",
    "        if overwrite:\n",
    "            shutil.rmtree(destination)\n",
    "        else:\n",
    "            print(f\"{destination} already exists. skipping download from Kaggle\")\n",
    "            return\n",
    "\n",
    "    api = KaggleApi()\n",
    "    api.authenticate()\n",
    "#   api.competition_download_file(competition, \"train.csv\", path=houseKaggleDir)\n",
    "#   api.competition_download_file(competition, \"test.csv\", path=houseKaggleDir)\n",
    "    \n",
    "    api.competition_download_file(competition, \"train.csv\")\n",
    "    api.competition_download_file(competition, \"test.csv\")\n"
   ]
  },
  {
   "cell_type": "code",
   "execution_count": null,
   "id": "72db8c5f",
   "metadata": {},
   "outputs": [],
   "source": [
    "if __name__ == \"__main__\":\n",
    "    #For interactive (Notebooks)\n",
    "    houseKaggleDir = \"house-price\"\n",
    "\n",
    "    # For non-interactive (Python .py scripts)\n",
    "    #fileDir = os.path.dirname(os.path.realpath(__file__))\n",
    "    #houseKaggleDir = os.path.join(fileDir, \"house-price\")\n",
    "    \n",
    "    competition_name = \"house-prices-advanced-regression-techniques\"\n",
    "    overwrite = True\n",
    "    \n",
    "    print(\"Downloading kaggle files\")\n",
    "    downloadFiles(competition_name, houseKaggleDir, overwrite)\n",
    "    print(\"Download complete\")"
   ]
  },
  {
   "cell_type": "code",
   "execution_count": null,
   "id": "c9ea5d63",
   "metadata": {},
   "outputs": [],
   "source": []
  }
 ],
 "metadata": {
  "kernelspec": {
   "display_name": "Python 3 (ipykernel)",
   "language": "python",
   "name": "python3"
  },
  "language_info": {
   "codemirror_mode": {
    "name": "ipython",
    "version": 3
   },
   "file_extension": ".py",
   "mimetype": "text/x-python",
   "name": "python",
   "nbconvert_exporter": "python",
   "pygments_lexer": "ipython3",
   "version": "3.7.0"
  }
 },
 "nbformat": 4,
 "nbformat_minor": 5
}
