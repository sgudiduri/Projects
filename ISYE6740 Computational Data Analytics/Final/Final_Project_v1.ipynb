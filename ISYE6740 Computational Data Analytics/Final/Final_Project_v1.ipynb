{
 "cells": [
  {
   "cell_type": "markdown",
   "id": "1fcdc20d",
   "metadata": {},
   "source": [
    "## 1.Load S&P data"
   ]
  },
  {
   "cell_type": "code",
   "execution_count": 1,
   "id": "e12f0685",
   "metadata": {},
   "outputs": [],
   "source": [
    "import Loader as loader\n",
    "from StockMarketInvestor import StockMarketInvestor"
   ]
  },
  {
   "cell_type": "code",
   "execution_count": 2,
   "id": "ebb8798e",
   "metadata": {},
   "outputs": [
    {
     "name": "stdout",
     "output_type": "stream",
     "text": [
      "S&P Companies\n"
     ]
    },
    {
     "data": {
      "text/html": [
       "<div>\n",
       "<style scoped>\n",
       "    .dataframe tbody tr th:only-of-type {\n",
       "        vertical-align: middle;\n",
       "    }\n",
       "\n",
       "    .dataframe tbody tr th {\n",
       "        vertical-align: top;\n",
       "    }\n",
       "\n",
       "    .dataframe thead th {\n",
       "        text-align: right;\n",
       "    }\n",
       "</style>\n",
       "<table border=\"1\" class=\"dataframe\">\n",
       "  <thead>\n",
       "    <tr style=\"text-align: right;\">\n",
       "      <th></th>\n",
       "      <th>Company</th>\n",
       "      <th>Symbol</th>\n",
       "      <th>Weight</th>\n",
       "      <th>Price</th>\n",
       "      <th>Chg</th>\n",
       "    </tr>\n",
       "  </thead>\n",
       "  <tbody>\n",
       "    <tr>\n",
       "      <th>0</th>\n",
       "      <td>Apple Inc.</td>\n",
       "      <td>AAPL</td>\n",
       "      <td>6.878571</td>\n",
       "      <td>167.80</td>\n",
       "      <td>0.40</td>\n",
       "    </tr>\n",
       "    <tr>\n",
       "      <th>1</th>\n",
       "      <td>Microsoft Corporation</td>\n",
       "      <td>MSFT</td>\n",
       "      <td>5.669560</td>\n",
       "      <td>286.89</td>\n",
       "      <td>1.59</td>\n",
       "    </tr>\n",
       "    <tr>\n",
       "      <th>2</th>\n",
       "      <td>Amazon.com Inc.</td>\n",
       "      <td>AMZN</td>\n",
       "      <td>3.668142</td>\n",
       "      <td>3092.00</td>\n",
       "      <td>-70.31</td>\n",
       "    </tr>\n",
       "    <tr>\n",
       "      <th>3</th>\n",
       "      <td>Tesla Inc</td>\n",
       "      <td>TSLA</td>\n",
       "      <td>2.281229</td>\n",
       "      <td>1028.40</td>\n",
       "      <td>0.25</td>\n",
       "    </tr>\n",
       "    <tr>\n",
       "      <th>4</th>\n",
       "      <td>Alphabet Inc. Class A</td>\n",
       "      <td>GOOGL</td>\n",
       "      <td>2.072692</td>\n",
       "      <td>2571.95</td>\n",
       "      <td>-28.23</td>\n",
       "    </tr>\n",
       "  </tbody>\n",
       "</table>\n",
       "</div>"
      ],
      "text/plain": [
       "                 Company Symbol    Weight    Price    Chg\n",
       "0             Apple Inc.   AAPL  6.878571   167.80   0.40\n",
       "1  Microsoft Corporation   MSFT  5.669560   286.89   1.59\n",
       "2        Amazon.com Inc.   AMZN  3.668142  3092.00 -70.31\n",
       "3              Tesla Inc   TSLA  2.281229  1028.40   0.25\n",
       "4  Alphabet Inc. Class A  GOOGL  2.072692  2571.95 -28.23"
      ]
     },
     "execution_count": 2,
     "metadata": {},
     "output_type": "execute_result"
    }
   ],
   "source": [
    "sp_comp = loader.get_sp_index()\n",
    "print(\"S&P Companies\")\n",
    "sp_comp.head()"
   ]
  },
  {
   "cell_type": "code",
   "execution_count": 3,
   "id": "f1307dad",
   "metadata": {},
   "outputs": [
    {
     "name": "stdout",
     "output_type": "stream",
     "text": [
      "S&P Historical Data\n"
     ]
    },
    {
     "data": {
      "text/html": [
       "<div>\n",
       "<style scoped>\n",
       "    .dataframe tbody tr th:only-of-type {\n",
       "        vertical-align: middle;\n",
       "    }\n",
       "\n",
       "    .dataframe tbody tr th {\n",
       "        vertical-align: top;\n",
       "    }\n",
       "\n",
       "    .dataframe thead th {\n",
       "        text-align: right;\n",
       "    }\n",
       "</style>\n",
       "<table border=\"1\" class=\"dataframe\">\n",
       "  <thead>\n",
       "    <tr style=\"text-align: right;\">\n",
       "      <th></th>\n",
       "      <th>AMZN</th>\n",
       "      <th>TSLA</th>\n",
       "      <th>AAPL</th>\n",
       "      <th>NFLX</th>\n",
       "    </tr>\n",
       "    <tr>\n",
       "      <th>Date</th>\n",
       "      <th></th>\n",
       "      <th></th>\n",
       "      <th></th>\n",
       "      <th></th>\n",
       "    </tr>\n",
       "  </thead>\n",
       "  <tbody>\n",
       "    <tr>\n",
       "      <th>2022-03-24</th>\n",
       "      <td>3272.989990</td>\n",
       "      <td>1013.919983</td>\n",
       "      <td>174.070007</td>\n",
       "      <td>375.709991</td>\n",
       "    </tr>\n",
       "    <tr>\n",
       "      <th>2022-03-25</th>\n",
       "      <td>3295.469971</td>\n",
       "      <td>1010.640015</td>\n",
       "      <td>174.720001</td>\n",
       "      <td>373.850006</td>\n",
       "    </tr>\n",
       "    <tr>\n",
       "      <th>2022-03-28</th>\n",
       "      <td>3379.810059</td>\n",
       "      <td>1091.839966</td>\n",
       "      <td>175.600006</td>\n",
       "      <td>378.510010</td>\n",
       "    </tr>\n",
       "    <tr>\n",
       "      <th>2022-03-29</th>\n",
       "      <td>3386.300049</td>\n",
       "      <td>1099.569946</td>\n",
       "      <td>178.960007</td>\n",
       "      <td>391.820007</td>\n",
       "    </tr>\n",
       "    <tr>\n",
       "      <th>2022-03-30</th>\n",
       "      <td>3326.020020</td>\n",
       "      <td>1093.989990</td>\n",
       "      <td>177.770004</td>\n",
       "      <td>381.470001</td>\n",
       "    </tr>\n",
       "  </tbody>\n",
       "</table>\n",
       "</div>"
      ],
      "text/plain": [
       "                   AMZN         TSLA        AAPL        NFLX\n",
       "Date                                                        \n",
       "2022-03-24  3272.989990  1013.919983  174.070007  375.709991\n",
       "2022-03-25  3295.469971  1010.640015  174.720001  373.850006\n",
       "2022-03-28  3379.810059  1091.839966  175.600006  378.510010\n",
       "2022-03-29  3386.300049  1099.569946  178.960007  391.820007\n",
       "2022-03-30  3326.020020  1093.989990  177.770004  381.470001"
      ]
     },
     "execution_count": 3,
     "metadata": {},
     "output_type": "execute_result"
    }
   ],
   "source": [
    "#Peek at data\n",
    "sp_hist = loader.get_ticker_historical(list(sp_comp[\"Symbol\"]))\n",
    "print(\"S&P Historical Data\")\n",
    "sp_hist[[\"AMZN\",\"TSLA\", \"AAPL\", \"NFLX\"]].tail()"
   ]
  },
  {
   "cell_type": "code",
   "execution_count": 4,
   "id": "42221676",
   "metadata": {},
   "outputs": [
    {
     "name": "stdout",
     "output_type": "stream",
     "text": [
      "S&P Historical Data statistical description\n"
     ]
    },
    {
     "data": {
      "text/html": [
       "<div>\n",
       "<style scoped>\n",
       "    .dataframe tbody tr th:only-of-type {\n",
       "        vertical-align: middle;\n",
       "    }\n",
       "\n",
       "    .dataframe tbody tr th {\n",
       "        vertical-align: top;\n",
       "    }\n",
       "\n",
       "    .dataframe thead th {\n",
       "        text-align: right;\n",
       "    }\n",
       "</style>\n",
       "<table border=\"1\" class=\"dataframe\">\n",
       "  <thead>\n",
       "    <tr style=\"text-align: right;\">\n",
       "      <th></th>\n",
       "      <th>AMZN</th>\n",
       "      <th>TSLA</th>\n",
       "      <th>AAPL</th>\n",
       "      <th>NFLX</th>\n",
       "    </tr>\n",
       "  </thead>\n",
       "  <tbody>\n",
       "    <tr>\n",
       "      <th>count</th>\n",
       "      <td>513.000000</td>\n",
       "      <td>513.000000</td>\n",
       "      <td>513.000000</td>\n",
       "      <td>513.000000</td>\n",
       "    </tr>\n",
       "    <tr>\n",
       "      <th>mean</th>\n",
       "      <td>3131.497037</td>\n",
       "      <td>623.689936</td>\n",
       "      <td>128.451540</td>\n",
       "      <td>507.627290</td>\n",
       "    </tr>\n",
       "    <tr>\n",
       "      <th>std</th>\n",
       "      <td>370.562331</td>\n",
       "      <td>284.574884</td>\n",
       "      <td>29.307192</td>\n",
       "      <td>76.135233</td>\n",
       "    </tr>\n",
       "    <tr>\n",
       "      <th>min</th>\n",
       "      <td>1846.089966</td>\n",
       "      <td>85.505997</td>\n",
       "      <td>56.092499</td>\n",
       "      <td>331.010010</td>\n",
       "    </tr>\n",
       "    <tr>\n",
       "      <th>25%</th>\n",
       "      <td>3057.159912</td>\n",
       "      <td>415.089996</td>\n",
       "      <td>115.050003</td>\n",
       "      <td>476.260010</td>\n",
       "    </tr>\n",
       "    <tr>\n",
       "      <th>50%</th>\n",
       "      <td>3217.010010</td>\n",
       "      <td>663.690002</td>\n",
       "      <td>129.639999</td>\n",
       "      <td>508.820007</td>\n",
       "    </tr>\n",
       "    <tr>\n",
       "      <th>75%</th>\n",
       "      <td>3355.729980</td>\n",
       "      <td>818.320007</td>\n",
       "      <td>148.759995</td>\n",
       "      <td>546.989990</td>\n",
       "    </tr>\n",
       "    <tr>\n",
       "      <th>max</th>\n",
       "      <td>3731.409912</td>\n",
       "      <td>1229.910034</td>\n",
       "      <td>182.009995</td>\n",
       "      <td>691.690002</td>\n",
       "    </tr>\n",
       "  </tbody>\n",
       "</table>\n",
       "</div>"
      ],
      "text/plain": [
       "              AMZN         TSLA        AAPL        NFLX\n",
       "count   513.000000   513.000000  513.000000  513.000000\n",
       "mean   3131.497037   623.689936  128.451540  507.627290\n",
       "std     370.562331   284.574884   29.307192   76.135233\n",
       "min    1846.089966    85.505997   56.092499  331.010010\n",
       "25%    3057.159912   415.089996  115.050003  476.260010\n",
       "50%    3217.010010   663.690002  129.639999  508.820007\n",
       "75%    3355.729980   818.320007  148.759995  546.989990\n",
       "max    3731.409912  1229.910034  182.009995  691.690002"
      ]
     },
     "execution_count": 4,
     "metadata": {},
     "output_type": "execute_result"
    }
   ],
   "source": [
    "print(\"S&P Historical Data statistical description\")\n",
    "sm_list = [\"AMZN\",\"TSLA\", \"AAPL\", \"NFLX\"]\n",
    "sp_hist_short = sp_hist[sm_list]\n",
    "sp_hist_short.describe()"
   ]
  },
  {
   "cell_type": "markdown",
   "id": "6b283a1d",
   "metadata": {},
   "source": [
    "## 2.Visualize Price and Monthly returns"
   ]
  },
  {
   "cell_type": "code",
   "execution_count": 5,
   "id": "8abafdf6",
   "metadata": {},
   "outputs": [
    {
     "data": {
      "text/plain": [
       "<AxesSubplot:xlabel='Date'>"
      ]
     },
     "execution_count": 5,
     "metadata": {},
     "output_type": "execute_result"
    },
    {
     "data": {
      "image/png": "[encoded data removed]",
      "text/plain": [
       "<Figure size 720x432 with 1 Axes>"
      ]
     },
     "metadata": {
      "needs_background": "light"
     },
     "output_type": "display_data"
    }
   ],
   "source": [
    "sp_hist_short.plot(figsize=(10,6))"
   ]
  },
  {
   "cell_type": "code",
   "execution_count": 6,
   "id": "2c22ffa2",
   "metadata": {},
   "outputs": [
    {
     "data": {
      "text/plain": [
       "<AxesSubplot:xlabel='Date'>"
      ]
     },
     "execution_count": 6,
     "metadata": {},
     "output_type": "execute_result"
    },
    {
     "data": {
      "image/png": "[encoded data removed]",
      "text/plain": [
       "<Figure size 720x432 with 1 Axes>"
      ]
     },
     "metadata": {
      "needs_background": "light"
     },
     "output_type": "display_data"
    }
   ],
   "source": [
    "sp_hist_short.pct_change(30).dropna().plot(figsize=(10, 6))"
   ]
  },
  {
   "cell_type": "code",
   "execution_count": 7,
   "id": "19765fb4",
   "metadata": {},
   "outputs": [
    {
     "data": {
      "text/plain": [
       "<AxesSubplot:>"
      ]
     },
     "execution_count": 7,
     "metadata": {},
     "output_type": "execute_result"
    },
    {
     "data": {
      "image/png": "[encoded data removed]",
      "text/plain": [
       "<Figure size 720x432 with 1 Axes>"
      ]
     },
     "metadata": {
      "needs_background": "light"
     },
     "output_type": "display_data"
    }
   ],
   "source": [
    "sp_hist_short.boxplot(figsize=(10, 6))"
   ]
  },
  {
   "cell_type": "markdown",
   "id": "0efd4b44",
   "metadata": {},
   "source": [
    "## 3. Run Stock Market Investor\n",
    "\n",
    "### a) Run without constrains"
   ]
  },
  {
   "cell_type": "code",
   "execution_count": null,
   "id": "162d6508",
   "metadata": {},
   "outputs": [],
   "source": [
    "import warnings\n",
    "warnings.filterwarnings(\"ignore\")\n",
    "\n",
    "sm = StockMarketInvestor(sp_hist, 0.1)\n",
    "sm.train()"
   ]
  },
  {
   "cell_type": "code",
   "execution_count": null,
   "id": "7e6bd992",
   "metadata": {},
   "outputs": [],
   "source": [
    "ret = sm.optimize()"
   ]
  },
  {
   "cell_type": "markdown",
   "id": "7d2f8250",
   "metadata": {},
   "source": [
    "### b) Run with constrains include"
   ]
  },
  {
   "cell_type": "code",
   "execution_count": null,
   "id": "00ce791b",
   "metadata": {},
   "outputs": [],
   "source": [
    "sm = StockMarketInvestor(sp_hist, 0.05, include=['AAPL'])\n",
    "sm.train()"
   ]
  },
  {
   "cell_type": "code",
   "execution_count": null,
   "id": "ee5b4d26",
   "metadata": {},
   "outputs": [],
   "source": [
    "ret = sm.optimize()"
   ]
  },
  {
   "cell_type": "markdown",
   "id": "a9c14257",
   "metadata": {},
   "source": [
    "### b) Run with constrains include and exclude"
   ]
  },
  {
   "cell_type": "code",
   "execution_count": null,
   "id": "14720506",
   "metadata": {},
   "outputs": [],
   "source": [
    "sm = StockMarketInvestor(sp_hist, 0.05, include=['AAPL'], exclude=['TSLA','FCX'])\n",
    "sm.train()"
   ]
  },
  {
   "cell_type": "code",
   "execution_count": null,
   "id": "76776ce5",
   "metadata": {},
   "outputs": [],
   "source": [
    "ret = sm.optimize()\n",
    "ret = ret.merge(sp_comp, left_on='Symbol', right_on='Symbol')"
   ]
  },
  {
   "cell_type": "code",
   "execution_count": null,
   "id": "73a5fb68",
   "metadata": {},
   "outputs": [],
   "source": [
    "ret = ret.sort_values(by=\"InvestmentPercentage\", ascending=False)"
   ]
  },
  {
   "cell_type": "markdown",
   "id": "514ddc5b",
   "metadata": {},
   "source": [
    "## USE LSTM To predict stock ticker, Can we make selections at individual level"
   ]
  },
  {
   "cell_type": "code",
   "execution_count": null,
   "id": "06d74830",
   "metadata": {},
   "outputs": [],
   "source": [
    "#choose top 4 stocks for prediction\n",
    "sel_lst = list(ret[\"Symbol\"][:5])\n",
    "print(f\"Choosen stocks: {sel_lst}\")\n",
    "sel_hist = sp_hist[sel_lst]"
   ]
  },
  {
   "cell_type": "code",
   "execution_count": null,
   "id": "88c44682",
   "metadata": {},
   "outputs": [],
   "source": [
    "sp_comp[sp_comp[\"Symbol\"].isin(sel_hist)]"
   ]
  },
  {
   "cell_type": "code",
   "execution_count": null,
   "id": "739350e1",
   "metadata": {},
   "outputs": [],
   "source": [
    "mos = sel_hist[\"NVDA\"].reset_index().drop(columns=[\"Date\"])"
   ]
  },
  {
   "cell_type": "code",
   "execution_count": null,
   "id": "18d30fc2",
   "metadata": {},
   "outputs": [],
   "source": [
    "import numpy as np\n",
    "from sklearn.preprocessing import MinMaxScaler\n",
    "scaler = MinMaxScaler(feature_range=(0,1))\n",
    "mos = scaler.fit_transform(np.array(mos).reshape(-1,1))"
   ]
  },
  {
   "cell_type": "code",
   "execution_count": null,
   "id": "cb26c867",
   "metadata": {},
   "outputs": [],
   "source": [
    "#split into training and test data splits\n",
    "xtrs = int(len(mos)*0.65)\n",
    "xtss = len(mos) - xtrs\n",
    "train, test = mos[0:xtrs, :],  mos[xtrs:, :1]"
   ]
  },
  {
   "cell_type": "code",
   "execution_count": null,
   "id": "d61d0686",
   "metadata": {},
   "outputs": [],
   "source": [
    "def create_features_targets(ds, time_step=1):\n",
    "    X, y= [], []\n",
    "    tf = len(ds)-time_step-1\n",
    "    for i in range(tf):\n",
    "        X.append(ds[i:(i+time_step),0])\n",
    "        y.append(ds[(i+time_step),0])    \n",
    "    return np.array(X), np.array(y)"
   ]
  },
  {
   "cell_type": "code",
   "execution_count": null,
   "id": "6af7dc07",
   "metadata": {},
   "outputs": [],
   "source": [
    "time_step = 100\n",
    "X_train, y_train = create_features_targets(train, time_step)\n",
    "X_test, ytest = create_features_targets(test, time_step)\\\n",
    "# reshape input to be [samples, time steps, features] which is required for LSTM\n",
    "X_train =X_train.reshape(X_train.shape[0],X_train.shape[1] , 1)\n",
    "X_test = X_test.reshape(X_test.shape[0],X_test.shape[1] , 1)"
   ]
  },
  {
   "cell_type": "code",
   "execution_count": null,
   "id": "36fcdc7f",
   "metadata": {},
   "outputs": [],
   "source": [
    "X_train.shape"
   ]
  },
  {
   "cell_type": "code",
   "execution_count": null,
   "id": "cdf40414",
   "metadata": {},
   "outputs": [],
   "source": [
    "### Create the Stacked LSTM model\n",
    "from tensorflow.keras.models import Sequential\n",
    "from tensorflow.keras.layers import Dense\n",
    "from tensorflow.keras.layers import LSTM"
   ]
  },
  {
   "cell_type": "code",
   "execution_count": null,
   "id": "3f3ea335",
   "metadata": {},
   "outputs": [],
   "source": [
    "model=Sequential()\n",
    "model.add(LSTM(50,return_sequences=True,input_shape=(100,1)))\n",
    "model.add(LSTM(50,return_sequences=True))\n",
    "model.add(LSTM(50))\n",
    "model.add(Dense(1))\n",
    "model.compile(loss='mean_squared_error',optimizer='adam')"
   ]
  },
  {
   "cell_type": "code",
   "execution_count": null,
   "id": "1b13eb5e",
   "metadata": {},
   "outputs": [],
   "source": [
    "model.fit(X_train,y_train,validation_data=(X_test,ytest),epochs=100,batch_size=64,verbose=1)"
   ]
  },
  {
   "cell_type": "code",
   "execution_count": null,
   "id": "d2b6565b",
   "metadata": {},
   "outputs": [],
   "source": [
    "train_predict=model.predict(X_train)\n",
    "test_predict=model.predict(X_test)"
   ]
  },
  {
   "cell_type": "code",
   "execution_count": null,
   "id": "a7d61fe5",
   "metadata": {},
   "outputs": [],
   "source": [
    "##Transformback to original form\n",
    "train_predict=scaler.inverse_transform(train_predict)\n",
    "test_predict=scaler.inverse_transform(test_predict)"
   ]
  },
  {
   "cell_type": "code",
   "execution_count": null,
   "id": "d6062201",
   "metadata": {},
   "outputs": [],
   "source": [
    "### Calculate RMSE performance metrics\n",
    "import math\n",
    "from sklearn.metrics import mean_squared_error\n",
    "math.sqrt(mean_squared_error(y_train,train_predict))"
   ]
  },
  {
   "cell_type": "code",
   "execution_count": null,
   "id": "96e1b195",
   "metadata": {},
   "outputs": [],
   "source": [
    "### Test Data RMSE\n",
    "math.sqrt(mean_squared_error(ytest,test_predict))"
   ]
  },
  {
   "cell_type": "code",
   "execution_count": null,
   "id": "14f23998",
   "metadata": {},
   "outputs": [],
   "source": [
    "import matplotlib.pyplot as plt\n",
    "### Plotting \n",
    "# shift train predictions for plotting\n",
    "look_back=100\n",
    "trainPredictPlot = np.empty_like(mos)\n",
    "trainPredictPlot[:, :] = np.nan\n",
    "trainPredictPlot[look_back:len(train_predict)+look_back, :] = train_predict\n",
    "# shift test predictions for plotting\n",
    "testPredictPlot = np.empty_like(mos)\n",
    "testPredictPlot[:, :] = np.nan\n",
    "testPredictPlot[len(train_predict)+(look_back*2)+1:len(mos)-1, :] = test_predict\n",
    "# plot baseline and predictions\n",
    "\n",
    "plt.figure(figsize=(10,6))\n",
    "plt.plot(scaler.inverse_transform(mos))\n",
    "plt.plot(trainPredictPlot)\n",
    "plt.plot(testPredictPlot)\n",
    "plt.show()"
   ]
  },
  {
   "cell_type": "code",
   "execution_count": null,
   "id": "ca931b1d",
   "metadata": {},
   "outputs": [],
   "source": [
    "# Importing the libraries\n",
    "import numpy as np\n",
    "import matplotlib.pyplot as plt\n",
    "import pandas as pd\n",
    "plt.style.use('seaborn-whitegrid')\n",
    "\n",
    "from sklearn.preprocessing import MinMaxScaler\n",
    "from keras.models import Sequential\n",
    "from keras.layers import Dense, LSTM, Dropout, GRU, Bidirectional\n",
    "from tensorflow.keras.optimizers import SGD\n",
    "import math\n",
    "from sklearn.metrics import mean_squared_error"
   ]
  },
  {
   "cell_type": "code",
   "execution_count": null,
   "id": "f12b01f5",
   "metadata": {},
   "outputs": [],
   "source": [
    "train = sel_hist[:400]\n",
    "test = sel_hist[400:]\n",
    "for i in sel_lst:\n",
    "    plt.figure(figsize=(14,4))\n",
    "    plt.plot(train[i])\n",
    "    plt.plot(test[i])\n",
    "    plt.ylabel(\"Price\")\n",
    "    plt.xlabel(\"Date\")\n",
    "    plt.legend([\"Training Set\", \"Test Set\"])\n",
    "    plt.title(i + \" Closing Stock Price\")"
   ]
  },
  {
   "cell_type": "code",
   "execution_count": null,
   "id": "d2610c50",
   "metadata": {},
   "outputs": [],
   "source": [
    "# Scaling the training set\n",
    "transform_train = {}\n",
    "transform_test = {}\n",
    "scaler = {}\n",
    "\n",
    "for num, i in enumerate(sel_lst):\n",
    "    sc = MinMaxScaler(feature_range=(0,1))\n",
    "    a0 = np.array(train[i])\n",
    "    a1 = np.array(test[i])\n",
    "    a0 = a0.reshape(a0.shape[0],1)\n",
    "    a1 = a1.reshape(a1.shape[0],1)\n",
    "    transform_train[i] = sc.fit_transform(a0)\n",
    "    transform_test[i] = sc.fit_transform(a1)\n",
    "    scaler[i] = sc\n",
    "    \n",
    "del a0\n",
    "del a1"
   ]
  },
  {
   "cell_type": "code",
   "execution_count": null,
   "id": "f8ad9e9d",
   "metadata": {},
   "outputs": [],
   "source": [
    "for i in transform_train.keys():\n",
    "    print(i, transform_train[i].shape)\n",
    "print(\"\\n\")    \n",
    "for i in transform_test.keys():\n",
    "    print(i, transform_test[i].shape)"
   ]
  },
  {
   "cell_type": "code",
   "execution_count": null,
   "id": "5ecd05a2",
   "metadata": {},
   "outputs": [],
   "source": [
    "trainset = {}\n",
    "testset = {}\n",
    "for j in sel_lst:\n",
    "    trainset[j] = {}\n",
    "    X_train = []\n",
    "    y_train = []\n",
    "    for i in range(60,400):\n",
    "        X_train.append(transform_train[j][i-60:i,0])\n",
    "        y_train.append(transform_train[j][i,0])\n",
    "    X_train, y_train = np.array(X_train), np.array(y_train)\n",
    "    trainset[j][\"X\"] = np.reshape(X_train, (X_train.shape[0],X_train.shape[1],1))\n",
    "    trainset[j][\"y\"] = y_train\n",
    "    \n",
    "    testset[j] = {}\n",
    "    X_test = []\n",
    "    y_test = []    \n",
    "    for i in range(60, 113):\n",
    "        X_test.append(transform_test[j][i-60:i,0])\n",
    "        y_test.append(transform_test[j][i,0])\n",
    "    X_test, y_test = np.array(X_test), np.array(y_test)\n",
    "    testset[j][\"X\"] = np.reshape(X_test, (X_test.shape[0], X_train.shape[1], 1))\n",
    "    testset[j][\"y\"] = y_test"
   ]
  },
  {
   "cell_type": "code",
   "execution_count": null,
   "id": "1070b877",
   "metadata": {},
   "outputs": [],
   "source": [
    "arr_buff = []\n",
    "for i in sel_lst:\n",
    "    buff = {}\n",
    "    buff[\"X_train\"] = trainset[i][\"X\"].shape\n",
    "    buff[\"y_train\"] = trainset[i][\"y\"].shape\n",
    "    buff[\"X_test\"] = testset[i][\"X\"].shape\n",
    "    buff[\"y_test\"] = testset[i][\"y\"].shape\n",
    "    arr_buff.append(buff)\n",
    "\n",
    "pd.DataFrame(arr_buff, index=sel_lst)\n",
    "stockList = sel_lst"
   ]
  },
  {
   "cell_type": "code",
   "execution_count": null,
   "id": "87ff4d3b",
   "metadata": {},
   "outputs": [],
   "source": [
    "%%time\n",
    "# The LSTM architecture\n",
    "regressor = Sequential()\n",
    "# First LSTM layer with Dropout regularisation\n",
    "regressor.add(LSTM(units=100, return_sequences=True, input_shape=(X_train.shape[1],1)))\n",
    "regressor.add(Dropout(0.2))\n",
    "# Second LSTM layer\n",
    "regressor.add(LSTM(units=50, return_sequences=True))\n",
    "regressor.add(Dropout(0.2))\n",
    "# Third LSTM layer\n",
    "regressor.add(LSTM(units=50, return_sequences=True))\n",
    "regressor.add(Dropout(0.5))\n",
    "# Fourth LSTM layer\n",
    "regressor.add(LSTM(units=50))\n",
    "regressor.add(Dropout(0.5))\n",
    "# The output layer\n",
    "regressor.add(Dense(units=1))\n",
    "\n",
    "# Compiling the RNN\n",
    "regressor.compile(optimizer='rmsprop', loss='mean_squared_error')\n",
    "# Fitting to the training set\n",
    "for i in stockList:\n",
    "    print(\"Fitting to\", i)\n",
    "    regressor.fit(trainset[i][\"X\"], trainset[i][\"y\"], epochs=50, batch_size=200)"
   ]
  },
  {
   "cell_type": "code",
   "execution_count": null,
   "id": "dce768e4",
   "metadata": {
    "scrolled": false
   },
   "outputs": [],
   "source": [
    "pred_result = {}\n",
    "for i in stockList:\n",
    "    y_true = scaler[i].inverse_transform(testset[i][\"y\"].reshape(-1,1))\n",
    "    y_pred = scaler[i].inverse_transform(regressor.predict(testset[i][\"X\"]))\n",
    "    MSE = mean_squared_error(y_true, y_pred)\n",
    "    pred_result[i] = {}\n",
    "    pred_result[i][\"True\"] = y_true\n",
    "    pred_result[i][\"Pred\"] = y_pred\n",
    "    \n",
    "    plt.figure(figsize=(14,6))\n",
    "    plt.title(\"{} with MSE {:10.4f}\".format(i,MSE))\n",
    "    plt.plot(y_true)\n",
    "    plt.plot(y_pred)"
   ]
  },
  {
   "cell_type": "code",
   "execution_count": null,
   "id": "4ce4922c",
   "metadata": {},
   "outputs": [],
   "source": [
    "len(testset[\"MOS\"][\"y\"])"
   ]
  }
 ],
 "metadata": {
  "kernelspec": {
   "display_name": "Python 3 (ipykernel)",
   "language": "python",
   "name": "python3"
  },
  "language_info": {
   "codemirror_mode": {
    "name": "ipython",
    "version": 3
   },
   "file_extension": ".py",
   "mimetype": "text/x-python",
   "name": "python",
   "nbconvert_exporter": "python",
   "pygments_lexer": "ipython3",
   "version": "3.9.7"
  }
 },
 "nbformat": 4,
 "nbformat_minor": 5
}
