{
 "cells": [
  {
   "cell_type": "code",
   "execution_count": 1,
   "id": "f2649823",
   "metadata": {},
   "outputs": [],
   "source": [
    "import pandas as pd\n",
    "import yfinance as yf\n",
    "from pathlib import Path  \n",
    "import matplotlib.pyplot as plt\n",
    "from matplotlib.pyplot import figure\n",
    "import talib\n",
    "from os import path\n",
    "import seaborn as sns\n",
    "import numpy as np\n",
    "import bs4 as bs\n",
    "from urllib.request import Request, urlopen\n",
    "from pulp import *"
   ]
  },
  {
   "cell_type": "code",
   "execution_count": 2,
   "id": "f1061ed3",
   "metadata": {},
   "outputs": [],
   "source": [
    "def reformat_ticker_dataframe(ticker_history):\n",
    "    cols = {i:i.replace(\"_close\",\"\") for i in list(ticker_history.columns) if \"_close\" in i}\n",
    "    ticker_history = ticker_history[[i for i in list(cols.keys())]]\n",
    "    ticker_history = ticker_history.rename(columns=cols)\n",
    "    return ticker_history        \n",
    "\n",
    "def get_sp_index():\n",
    "    sp_index_path =  Path('data/sp_index.xlsx')  \n",
    "    if(sp_index_path.is_file()):\n",
    "        df = pd.read_excel('data/sp_index.xlsx')\n",
    "        df = df[[\"Company\",\"Symbol\",\"Weight\",\"Price\", \"Chg\"]]\n",
    "    else:\n",
    "        req = Request('https://www.slickcharts.com/sp500', headers={'User-Agent': 'Mozilla/5.0'})\n",
    "        webpage = urlopen(req).read()\n",
    "        soup = bs.BeautifulSoup(webpage,'lxml')\n",
    "        table = soup.find('table', attrs={'class':'table table-hover table-borderless table-sm'})\n",
    "        df = pd.read_html(str(table))[0]\n",
    "        df = df[[\"Company\",\"Symbol\",\"Weight\",\"Price\",\"Chg\"]]\n",
    "        df.to_excel(\"data/sp_index.xlsx\")\n",
    "    return df\n",
    "\n",
    "\n",
    "def get_ticker_historical(symbol_list):\n",
    "    ticker_history_file = Path('data/ticker_history.xlsx')  \n",
    "    if ticker_history_file.is_file():\n",
    "        print(\"found\")\n",
    "        ticker_history = pd.read_excel('data/ticker_history.xlsx')\n",
    "        ticker_history = ticker_history.set_index(\"Date\")\n",
    "        return reformat_ticker_dataframe(ticker_history.dropna())\n",
    "    else:     \n",
    "        print(\"not found\")\n",
    "        ticker_history = pd.DataFrame(list(), columns=[])   \n",
    "        for i in symbol_list:\n",
    "            ticker_df = yf.download(i, start=\"2015-03-30\", end=\"2022-03-31\")[[\"Close\"]]    \n",
    "            if len(ticker_df) > 500:        \n",
    "                ticker_df = ticker_df.rename(columns={\"Close\": f\"{i}_close\"})\n",
    "                ticker_history = ticker_df.join(ticker_history) \n",
    "                \n",
    "        ticker_history.to_excel(\"data/ticker_history.xlsx\")\n",
    "        return reformat_ticker_dataframe(ticker_history.dropna())\n",
    "    "
   ]
  },
  {
   "cell_type": "code",
   "execution_count": 19,
   "id": "9f447fc9",
   "metadata": {},
   "outputs": [
    {
     "name": "stdout",
     "output_type": "stream",
     "text": [
      "found\n"
     ]
    }
   ],
   "source": [
    "df = get_sp_index()\n",
    "df_history = get_ticker_historical(list(set(df[\"Symbol\"])))"
   ]
  },
  {
   "cell_type": "code",
   "execution_count": 28,
   "id": "20d7ab8a",
   "metadata": {},
   "outputs": [
    {
     "ename": "TypeError",
     "evalue": "'>' not supported between instances of 'LpAffineExpression' and 'int'",
     "output_type": "error",
     "traceback": [
      "\u001b[1;31m---------------------------------------------------------------------------\u001b[0m",
      "\u001b[1;31mTypeError\u001b[0m                                 Traceback (most recent call last)",
      "\u001b[1;32mC:\\Users\\GUDIDU~1\\AppData\\Local\\Temp/ipykernel_3164/2637130096.py\u001b[0m in \u001b[0;36m<module>\u001b[1;34m\u001b[0m\n\u001b[0;32m     13\u001b[0m \u001b[1;31m##Objective function ##\u001b[0m\u001b[1;33m\u001b[0m\u001b[1;33m\u001b[0m\u001b[0m\n\u001b[0;32m     14\u001b[0m \u001b[1;31m########################\u001b[0m\u001b[1;33m\u001b[0m\u001b[1;33m\u001b[0m\u001b[0m\n\u001b[1;32m---> 15\u001b[1;33m \u001b[0mstock_optimizer\u001b[0m \u001b[1;33m+=\u001b[0m \u001b[0mlpSum\u001b[0m\u001b[1;33m(\u001b[0m\u001b[0mticker_dict\u001b[0m\u001b[1;33m[\u001b[0m\u001b[0mi\u001b[0m\u001b[1;33m[\u001b[0m\u001b[1;36m1\u001b[0m\u001b[1;33m]\u001b[0m\u001b[1;33m]\u001b[0m \u001b[1;33m*\u001b[0m \u001b[0mi\u001b[0m\u001b[1;33m[\u001b[0m\u001b[1;36m0\u001b[0m\u001b[1;33m]\u001b[0m \u001b[1;32mfor\u001b[0m \u001b[0mi\u001b[0m \u001b[1;32min\u001b[0m \u001b[0mzip\u001b[0m\u001b[1;33m(\u001b[0m\u001b[0mdf\u001b[0m\u001b[1;33m[\u001b[0m\u001b[1;34m\"Price\"\u001b[0m\u001b[1;33m]\u001b[0m\u001b[1;33m.\u001b[0m\u001b[0mtolist\u001b[0m\u001b[1;33m(\u001b[0m\u001b[1;33m)\u001b[0m\u001b[1;33m,\u001b[0m\u001b[0mticker_list\u001b[0m\u001b[1;33m)\u001b[0m\u001b[1;33m)\u001b[0m \u001b[1;33m>\u001b[0m \u001b[1;36m1000\u001b[0m\u001b[1;33m\u001b[0m\u001b[1;33m\u001b[0m\u001b[0m\n\u001b[0m\u001b[0;32m     16\u001b[0m \u001b[1;33m\u001b[0m\u001b[0m\n\u001b[0;32m     17\u001b[0m \u001b[1;31m######################\u001b[0m\u001b[1;33m\u001b[0m\u001b[1;33m\u001b[0m\u001b[0m\n",
      "\u001b[1;31mTypeError\u001b[0m: '>' not supported between instances of 'LpAffineExpression' and 'int'"
     ]
    }
   ],
   "source": [
    "#Create the problem variable to contain problem data\n",
    "stock_optimizer = LpProblem(\"Stock Market Investment\", LpMaximize)\n",
    "\n",
    "#select list of tickers\n",
    "ticker_list = df[\"Symbol\"].tolist()\n",
    "\n",
    "########################\n",
    "## VARIABLES ##########\n",
    "########################\n",
    "ticker_dict = LpVariable.dicts(\"ticker_list\", ticker_list, 0)\n",
    "\n",
    "########################\n",
    "##Objective function ##\n",
    "########################\n",
    "stock_optimizer += lpSum(ticker_dict[i[1]] * i[0] for i in zip(df[\"Price\"].tolist(),ticker_list)) <= 1000\n",
    "\n",
    "######################\n",
    "## Solve ############\n",
    "######################\n",
    "# The problem is solved using PuLP's choice of Solver\n",
    "stock_optimizer.solve()\n",
    "\n",
    "######################\n",
    "## Constraints ######\n",
    "######################\n",
    "## loop through macros/energy requirements Calories through Iron\n",
    "for column in df.columns[3:]:\n",
    "    items = diet_df[column].tolist()\n",
    "    stock_optimizer += lpSum(ticker_dict[i[1]] * i[0]  for i in zip(items,ticker_list)) >= m[column]\n",
    "    stock_optimizer += lpSum(ticker_dict[i[1]] * i[0]  for i in zip(items,ticker_list)) <= M[column]  \n",
    "    \n",
    "\n",
    "######################\n",
    "## Result ############\n",
    "######################\n",
    "# The status of the solution is printed to the screen\n",
    "print(\"----------------------------------------\")\n",
    "print(\"-----------------RESULTS----------------\")\n",
    "print(\"----------------------------------------\")\n",
    "print(\"Optimization status:\", LpStatus[stock_optimizer.status])\n",
    "print(\"----------------------------------------\")\n",
    "\n",
    "# Each of the variables is printed with it's resolved optimum value\n",
    "for v in stock_optimizer.variables():\n",
    "    if v.varValue > 0:\n",
    "        print(v.name[12:], \"  {:.2f}\".format(v.varValue))\n",
    "        \n",
    "print(\"----------------------------------------\")\n",
    "##The optimised objective function value is printed to the screen\n",
    "print(\"Total Cost of Ingredients per can = $%.2f\" % value(stock_optimizer.objective))\n",
    "print(\"----------------------------------------\")"
   ]
  },
  {
   "cell_type": "code",
   "execution_count": 30,
   "id": "6fa576b7",
   "metadata": {},
   "outputs": [
    {
     "name": "stdout",
     "output_type": "stream",
     "text": [
      "Weight\n",
      "Price\n",
      "Chg\n"
     ]
    }
   ],
   "source": [
    "for column in df.columns[2:]:\n",
    "    print(column)\n",
    "    "
   ]
  }
 ],
 "metadata": {
  "kernelspec": {
   "display_name": "Python 3 (ipykernel)",
   "language": "python",
   "name": "python3"
  },
  "language_info": {
   "codemirror_mode": {
    "name": "ipython",
    "version": 3
   },
   "file_extension": ".py",
   "mimetype": "text/x-python",
   "name": "python",
   "nbconvert_exporter": "python",
   "pygments_lexer": "ipython3",
   "version": "3.9.7"
  }
 },
 "nbformat": 4,
 "nbformat_minor": 5
}
